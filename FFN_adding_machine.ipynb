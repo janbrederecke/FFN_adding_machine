{
 "cells": [
  {
   "cell_type": "markdown",
   "metadata": {},
   "source": [
    "# A Feed Forward Neural Network that Learns to Add Numbers from -10 to 10"
   ]
  },
  {
   "cell_type": "code",
   "execution_count": 74,
   "metadata": {},
   "outputs": [
    {
     "name": "stderr",
     "output_type": "stream",
     "text": [
      "/var/folders/wk/cgsrf1m50qx268ccx7b33rdr0000gn/T/ipykernel_3782/2217786551.py:11: DeprecationWarning: `set_matplotlib_formats` is deprecated since IPython 7.23, directly use `matplotlib_inline.backend_inline.set_matplotlib_formats()`\n",
      "  display.set_matplotlib_formats('svg')\n"
     ]
    }
   ],
   "source": [
    "# Load libraries / packages / functions\n",
    "import numpy as np\n",
    "import matplotlib.pyplot as plt\n",
    "import torch\n",
    "import torch.nn as nn\n",
    "import torch.nn.functional as F\n",
    "from torch.utils.data import DataLoader, TensorDataset\n",
    "\n",
    "# Change the graphics settings to display vector graphics for prettier outputs\n",
    "from IPython import display\n",
    "display.set_matplotlib_formats('svg')\n",
    "\n",
    "# Self-defined functions in python scripts in this project\n",
    "from create_data import create_data"
   ]
  },
  {
   "cell_type": "code",
   "execution_count": 87,
   "metadata": {},
   "outputs": [],
   "source": [
    "# Create train, test, and holdout data (numpy arrays)\n",
    "training, testing, holdout = create_data(50)"
   ]
  },
  {
   "cell_type": "code",
   "execution_count": 88,
   "metadata": {},
   "outputs": [],
   "source": [
    "# Turn the datasets into torch.Tensors and TensorDatasets\n",
    "## Normalize all the predictors across train, test, holdout by the same value\n",
    "## Training data\n",
    "train_labels = torch.Tensor(training[:, 2])[:, None].float()\n",
    "train_data = torch.Tensor(training[:, :2] / 10).float()\n",
    "train_set = TensorDataset(train_data, train_labels)\n",
    "\n",
    "## Testing data\n",
    "test_labels = torch.Tensor(testing[:, 2])[:, None].float()\n",
    "test_data = torch.Tensor(testing[:, :2] / 10).float()\n",
    "test_set = TensorDataset(test_data, test_data)\n",
    "\n",
    "## Holdout data\n",
    "holdout_labels = torch.Tensor(holdout[:, 2])[:, None].float()\n",
    "holdout_data = torch.Tensor(holdout[:, :2] / 10).float()\n",
    "holdout_set = TensorDataset(holdout_data, holdout_labels)"
   ]
  },
  {
   "cell_type": "code",
   "execution_count": 89,
   "metadata": {},
   "outputs": [],
   "source": [
    "# Set some important metaparameters here in one go\n",
    "BATCHSIZE = 16"
   ]
  },
  {
   "cell_type": "code",
   "execution_count": 94,
   "metadata": {},
   "outputs": [
    {
     "name": "stdout",
     "output_type": "stream",
     "text": [
      "There are 3 batches in the train_loader, each with 16 samples.\n"
     ]
    }
   ],
   "source": [
    "# Create DataLoaders\n",
    "train_loader = DataLoader(train_set,\n",
    "                          batch_size=BATCHSIZE,\n",
    "                          drop_last=True,\n",
    "                          shuffle=True)\n",
    "test_loader = DataLoader(test_set,\n",
    "                         batch_size=test_set.tensors[0].shape[0])\n",
    "holdout_loader = DataLoader(holdout_set,\n",
    "                            batch_size=holdout_set.tensors[0].shape[0])\n",
    "\n",
    "# Return some information on the training DataLoader\n",
    "print(f'There are {len(train_loader)} batches in the train_loader, each with {BATCHSIZE} samples.')"
   ]
  },
  {
   "cell_type": "code",
   "execution_count": null,
   "metadata": {},
   "outputs": [],
   "source": []
  }
 ],
 "metadata": {
  "kernelspec": {
   "display_name": "Python 3.8.13 ('datascience')",
   "language": "python",
   "name": "python3"
  },
  "language_info": {
   "codemirror_mode": {
    "name": "ipython",
    "version": 3
   },
   "file_extension": ".py",
   "mimetype": "text/x-python",
   "name": "python",
   "nbconvert_exporter": "python",
   "pygments_lexer": "ipython3",
   "version": "3.8.13"
  },
  "orig_nbformat": 4,
  "vscode": {
   "interpreter": {
    "hash": "d203a7fbe37afbb990fedfc21c321928443618f3d7b991e0237ff71906aa031f"
   }
  }
 },
 "nbformat": 4,
 "nbformat_minor": 2
}
